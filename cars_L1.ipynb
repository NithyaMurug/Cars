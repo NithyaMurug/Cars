{
 "cells": [
  {
   "cell_type": "code",
   "execution_count": 1,
   "id": "fa06cff2",
   "metadata": {},
   "outputs": [],
   "source": [
    "import pandas as pd\n",
    "import numpy as np\n",
    "import matplotlib.pyplot as plt\n",
    "import seaborn as sns\n",
    "import scipy\n",
    "from sklearn import preprocessing\n",
    "from sklearn.preprocessing import LabelEncoder\n",
    "from sklearn.linear_model import LinearRegression\n",
    "from sklearn.model_selection import train_test_split\n",
    "from sklearn import metrics\n",
    "from sklearn.metrics import mean_squared_error\n",
    "from sklearn.metrics import r2_score\n",
    "import warnings\n",
    "warnings.filterwarnings(\"ignore\")"
   ]
  },
  {
   "cell_type": "code",
   "execution_count": 2,
   "id": "b483d1f2",
   "metadata": {},
   "outputs": [],
   "source": [
    "cars =  pd.read_csv(\"C:\\\\Users\\\\Dell\\\\OneDrive\\\\Desktop\\\\Nithya VB\\\\Project\\\\cars\\\\car data.csv\")"
   ]
  },
  {
   "cell_type": "code",
   "execution_count": 3,
   "id": "59d7d0d2",
   "metadata": {},
   "outputs": [
    {
     "data": {
      "text/html": [
       "<div>\n",
       "<style scoped>\n",
       "    .dataframe tbody tr th:only-of-type {\n",
       "        vertical-align: middle;\n",
       "    }\n",
       "\n",
       "    .dataframe tbody tr th {\n",
       "        vertical-align: top;\n",
       "    }\n",
       "\n",
       "    .dataframe thead th {\n",
       "        text-align: right;\n",
       "    }\n",
       "</style>\n",
       "<table border=\"1\" class=\"dataframe\">\n",
       "  <thead>\n",
       "    <tr style=\"text-align: right;\">\n",
       "      <th></th>\n",
       "      <th>Year</th>\n",
       "      <th>Owner</th>\n",
       "      <th>Present_Price</th>\n",
       "      <th>Kms_Driven</th>\n",
       "      <th>Selling_Price</th>\n",
       "    </tr>\n",
       "  </thead>\n",
       "  <tbody>\n",
       "    <tr>\n",
       "      <th>count</th>\n",
       "      <td>301.000000</td>\n",
       "      <td>301.000000</td>\n",
       "      <td>301.000000</td>\n",
       "      <td>301.000000</td>\n",
       "      <td>301.000000</td>\n",
       "    </tr>\n",
       "    <tr>\n",
       "      <th>mean</th>\n",
       "      <td>2013.627907</td>\n",
       "      <td>0.043189</td>\n",
       "      <td>7.628472</td>\n",
       "      <td>36947.205980</td>\n",
       "      <td>4.661296</td>\n",
       "    </tr>\n",
       "    <tr>\n",
       "      <th>std</th>\n",
       "      <td>2.891554</td>\n",
       "      <td>0.247915</td>\n",
       "      <td>8.644115</td>\n",
       "      <td>38886.883882</td>\n",
       "      <td>5.082812</td>\n",
       "    </tr>\n",
       "    <tr>\n",
       "      <th>min</th>\n",
       "      <td>2003.000000</td>\n",
       "      <td>0.000000</td>\n",
       "      <td>0.320000</td>\n",
       "      <td>500.000000</td>\n",
       "      <td>0.100000</td>\n",
       "    </tr>\n",
       "    <tr>\n",
       "      <th>25%</th>\n",
       "      <td>2012.000000</td>\n",
       "      <td>0.000000</td>\n",
       "      <td>1.200000</td>\n",
       "      <td>15000.000000</td>\n",
       "      <td>0.900000</td>\n",
       "    </tr>\n",
       "    <tr>\n",
       "      <th>50%</th>\n",
       "      <td>2014.000000</td>\n",
       "      <td>0.000000</td>\n",
       "      <td>6.400000</td>\n",
       "      <td>32000.000000</td>\n",
       "      <td>3.600000</td>\n",
       "    </tr>\n",
       "    <tr>\n",
       "      <th>75%</th>\n",
       "      <td>2016.000000</td>\n",
       "      <td>0.000000</td>\n",
       "      <td>9.900000</td>\n",
       "      <td>48767.000000</td>\n",
       "      <td>6.000000</td>\n",
       "    </tr>\n",
       "    <tr>\n",
       "      <th>max</th>\n",
       "      <td>2018.000000</td>\n",
       "      <td>3.000000</td>\n",
       "      <td>92.600000</td>\n",
       "      <td>500000.000000</td>\n",
       "      <td>35.000000</td>\n",
       "    </tr>\n",
       "  </tbody>\n",
       "</table>\n",
       "</div>"
      ],
      "text/plain": [
       "              Year       Owner  Present_Price     Kms_Driven  Selling_Price\n",
       "count   301.000000  301.000000     301.000000     301.000000     301.000000\n",
       "mean   2013.627907    0.043189       7.628472   36947.205980       4.661296\n",
       "std       2.891554    0.247915       8.644115   38886.883882       5.082812\n",
       "min    2003.000000    0.000000       0.320000     500.000000       0.100000\n",
       "25%    2012.000000    0.000000       1.200000   15000.000000       0.900000\n",
       "50%    2014.000000    0.000000       6.400000   32000.000000       3.600000\n",
       "75%    2016.000000    0.000000       9.900000   48767.000000       6.000000\n",
       "max    2018.000000    3.000000      92.600000  500000.000000      35.000000"
      ]
     },
     "execution_count": 3,
     "metadata": {},
     "output_type": "execute_result"
    }
   ],
   "source": [
    "cars.describe()"
   ]
  },
  {
   "cell_type": "code",
   "execution_count": 4,
   "id": "666a0ab4",
   "metadata": {},
   "outputs": [
    {
     "name": "stdout",
     "output_type": "stream",
     "text": [
      "<class 'pandas.core.frame.DataFrame'>\n",
      "RangeIndex: 301 entries, 0 to 300\n",
      "Data columns (total 9 columns):\n",
      " #   Column         Non-Null Count  Dtype  \n",
      "---  ------         --------------  -----  \n",
      " 0   Car_Name       301 non-null    object \n",
      " 1   Year           301 non-null    int64  \n",
      " 2   Owner          301 non-null    int64  \n",
      " 3   Present_Price  301 non-null    float64\n",
      " 4   Kms_Driven     301 non-null    int64  \n",
      " 5   Fuel_Type      301 non-null    object \n",
      " 6   Seller_Type    301 non-null    object \n",
      " 7   Transmission   301 non-null    object \n",
      " 8   Selling_Price  301 non-null    float64\n",
      "dtypes: float64(2), int64(3), object(4)\n",
      "memory usage: 21.3+ KB\n"
     ]
    }
   ],
   "source": [
    "cars.info()"
   ]
  },
  {
   "cell_type": "code",
   "execution_count": 5,
   "id": "615b709d",
   "metadata": {},
   "outputs": [
    {
     "name": "stdout",
     "output_type": "stream",
     "text": [
      "The no. of null values in each column are:\n",
      " Car_Name         0\n",
      "Year             0\n",
      "Owner            0\n",
      "Present_Price    0\n",
      "Kms_Driven       0\n",
      "Fuel_Type        0\n",
      "Seller_Type      0\n",
      "Transmission     0\n",
      "Selling_Price    0\n",
      "dtype: int64\n"
     ]
    }
   ],
   "source": [
    "def overlook(dataframe):\n",
    "    print('The no. of null values in each column are:\\n',cars.isnull().sum())\n",
    "    return\n",
    "\n",
    "overlook(cars)"
   ]
  },
  {
   "cell_type": "code",
   "execution_count": 6,
   "id": "8c9c4f4f",
   "metadata": {},
   "outputs": [
    {
     "name": "stdout",
     "output_type": "stream",
     "text": [
      "Index(['Car_Name', 'Fuel_Type', 'Seller_Type', 'Transmission'], dtype='object')\n"
     ]
    }
   ],
   "source": [
    "## selecting all categorical variable columns\n",
    "categorical_columns = cars.dtypes[cars.dtypes == 'object'].index\n",
    "print(categorical_columns)"
   ]
  },
  {
   "cell_type": "code",
   "execution_count": 7,
   "id": "7c9dc75f",
   "metadata": {},
   "outputs": [
    {
     "data": {
      "text/plain": [
       "(301, 9)"
      ]
     },
     "execution_count": 7,
     "metadata": {},
     "output_type": "execute_result"
    }
   ],
   "source": [
    "cars.shape"
   ]
  },
  {
   "cell_type": "code",
   "execution_count": 8,
   "id": "aa2b24ab",
   "metadata": {
    "scrolled": true
   },
   "outputs": [
    {
     "data": {
      "text/plain": [
       "<seaborn.axisgrid.PairGrid at 0x1958e8d31c0>"
      ]
     },
     "execution_count": 8,
     "metadata": {},
     "output_type": "execute_result"
    },
    {
     "data": {
      "image/png": "[encoded data removed]",
      "text/plain": [
       "<Figure size 900x900 with 30 Axes>"
      ]
     },
     "metadata": {
      "needs_background": "light"
     },
     "output_type": "display_data"
    }
   ],
   "source": [
    "sns.pairplot(cars)"
   ]
  },
  {
   "cell_type": "markdown",
   "id": "1493297c",
   "metadata": {},
   "source": [
    "## EDA"
   ]
  },
  {
   "cell_type": "code",
   "execution_count": 9,
   "id": "170d60e6",
   "metadata": {},
   "outputs": [
    {
     "data": {
      "text/plain": [
       "<AxesSubplot:xlabel='Fuel_Type', ylabel='count'>"
      ]
     },
     "execution_count": 9,
     "metadata": {},
     "output_type": "execute_result"
    },
    {
     "data": {
      "image/png": "[encoded data removed]",
      "text/plain": [
       "<Figure size 432x288 with 1 Axes>"
      ]
     },
     "metadata": {
      "needs_background": "light"
     },
     "output_type": "display_data"
    }
   ],
   "source": [
    "sns.countplot(x='Fuel_Type', hue=\"Owner\", data = cars)"
   ]
  },
  {
   "cell_type": "markdown",
   "id": "b1b9759e",
   "metadata": {},
   "source": [
    "### here we can see that 96% of first owner prefers buy petrol cars."
   ]
  },
  {
   "cell_type": "code",
   "execution_count": 10,
   "id": "ca7e6d9a",
   "metadata": {},
   "outputs": [
    {
     "data": {
      "text/plain": [
       "<AxesSubplot:xlabel='Car_Name', ylabel='count'>"
      ]
     },
     "execution_count": 10,
     "metadata": {},
     "output_type": "execute_result"
    },
    {
     "data": {
      "image/png": "[encoded data removed]",
      "text/plain": [
       "<Figure size 432x288 with 1 Axes>"
      ]
     },
     "metadata": {
      "needs_background": "light"
     },
     "output_type": "display_data"
    }
   ],
   "source": [
    "sns.countplot(x=\"Car_Name\",hue = \"Owner\", data = cars)"
   ]
  },
  {
   "cell_type": "code",
   "execution_count": 11,
   "id": "22819452",
   "metadata": {},
   "outputs": [
    {
     "data": {
      "text/plain": [
       "count      301\n",
       "unique      98\n",
       "top       city\n",
       "freq        26\n",
       "Name: Car_Name, dtype: object"
      ]
     },
     "execution_count": 11,
     "metadata": {},
     "output_type": "execute_result"
    }
   ],
   "source": [
    "cars.Car_Name.describe()"
   ]
  },
  {
   "cell_type": "code",
   "execution_count": 12,
   "id": "c8194b50",
   "metadata": {},
   "outputs": [
    {
     "data": {
      "text/plain": [
       "<AxesSubplot:xlabel='Fuel_Type', ylabel='count'>"
      ]
     },
     "execution_count": 12,
     "metadata": {},
     "output_type": "execute_result"
    },
    {
     "data": {
      "image/png": "[encoded data removed]",
      "text/plain": [
       "<Figure size 432x288 with 1 Axes>"
      ]
     },
     "metadata": {
      "needs_background": "light"
     },
     "output_type": "display_data"
    }
   ],
   "source": [
    "sns.countplot(x='Fuel_Type', hue=\"Transmission\", data = cars)"
   ]
  },
  {
   "cell_type": "markdown",
   "id": "5c306a89",
   "metadata": {},
   "source": [
    "### Here we can see only 1 manual transmission is of CNG fuel type."
   ]
  },
  {
   "cell_type": "code",
   "execution_count": 13,
   "id": "055da6ae",
   "metadata": {},
   "outputs": [
    {
     "data": {
      "text/plain": [
       "<AxesSubplot:xlabel='Owner', ylabel='count'>"
      ]
     },
     "execution_count": 13,
     "metadata": {},
     "output_type": "execute_result"
    },
    {
     "data": {
      "image/png": "[encoded data removed]",
      "text/plain": [
       "<Figure size 432x288 with 1 Axes>"
      ]
     },
     "metadata": {
      "needs_background": "light"
     },
     "output_type": "display_data"
    }
   ],
   "source": [
    "sns.countplot(x='Owner', hue=\"Transmission\", data = cars)"
   ]
  },
  {
   "cell_type": "markdown",
   "id": "0057d437",
   "metadata": {},
   "source": [
    "###  96% of owners prefer to go with Manual transmission."
   ]
  },
  {
   "cell_type": "code",
   "execution_count": 14,
   "id": "3dd756c7",
   "metadata": {},
   "outputs": [
    {
     "data": {
      "text/plain": [
       "<AxesSubplot:xlabel='Fuel_Type', ylabel='Selling_Price'>"
      ]
     },
     "execution_count": 14,
     "metadata": {},
     "output_type": "execute_result"
    },
    {
     "data": {
      "image/png": "[encoded data removed]",
      "text/plain": [
       "<Figure size 432x288 with 1 Axes>"
      ]
     },
     "metadata": {
      "needs_background": "light"
     },
     "output_type": "display_data"
    }
   ],
   "source": [
    "sns.violinplot(x='Fuel_Type', y=\"Selling_Price\", hue =\"Owner\", data = cars)"
   ]
  },
  {
   "cell_type": "markdown",
   "id": "8b423c56",
   "metadata": {},
   "source": [
    "### Diesel cars has the highest selling price which are been owned by first owners.\n"
   ]
  },
  {
   "cell_type": "code",
   "execution_count": 15,
   "id": "cfd748c7",
   "metadata": {},
   "outputs": [
    {
     "data": {
      "text/plain": [
       "<AxesSubplot:xlabel='Fuel_Type', ylabel='Present_Price'>"
      ]
     },
     "execution_count": 15,
     "metadata": {},
     "output_type": "execute_result"
    },
    {
     "data": {
      "image/png": "[encoded data removed]",
      "text/plain": [
       "<Figure size 432x288 with 1 Axes>"
      ]
     },
     "metadata": {
      "needs_background": "light"
     },
     "output_type": "display_data"
    }
   ],
   "source": [
    "sns.violinplot(x='Fuel_Type', y=\"Present_Price\", hue =\"Owner\", data = cars)"
   ]
  },
  {
   "cell_type": "markdown",
   "id": "59546433",
   "metadata": {},
   "source": [
    "## Cars_Name"
   ]
  },
  {
   "cell_type": "code",
   "execution_count": 16,
   "id": "a2a1c924",
   "metadata": {},
   "outputs": [
    {
     "data": {
      "text/plain": [
       "city                        26\n",
       "corolla altis               16\n",
       "verna                       14\n",
       "fortuner                    11\n",
       "brio                        10\n",
       "                            ..\n",
       "Honda CB Trigger             1\n",
       "Yamaha FZ S                  1\n",
       "Bajaj Pulsar 135 LS          1\n",
       "Activa 4g                    1\n",
       "Bajaj Avenger Street 220     1\n",
       "Name: Car_Name, Length: 98, dtype: int64"
      ]
     },
     "execution_count": 16,
     "metadata": {},
     "output_type": "execute_result"
    }
   ],
   "source": [
    "cars.Car_Name .value_counts()"
   ]
  },
  {
   "cell_type": "code",
   "execution_count": 17,
   "id": "1ce29070",
   "metadata": {},
   "outputs": [
    {
     "data": {
      "text/plain": [
       "<bound method NDFrame.describe of 0         ritz\n",
       "1          sx4\n",
       "2         ciaz\n",
       "3      wagon r\n",
       "4        swift\n",
       "        ...   \n",
       "296       city\n",
       "297       brio\n",
       "298       city\n",
       "299       city\n",
       "300       brio\n",
       "Name: Car_Name, Length: 301, dtype: object>"
      ]
     },
     "execution_count": 17,
     "metadata": {},
     "output_type": "execute_result"
    }
   ],
   "source": [
    "cars.Car_Name.describe"
   ]
  },
  {
   "cell_type": "markdown",
   "id": "904d6e3c",
   "metadata": {},
   "source": [
    "## Kms_driven"
   ]
  },
  {
   "cell_type": "code",
   "execution_count": 18,
   "id": "8f53c80a",
   "metadata": {},
   "outputs": [
    {
     "data": {
      "text/plain": [
       "45000    9\n",
       "15000    9\n",
       "40000    5\n",
       "35000    5\n",
       "50000    5\n",
       "        ..\n",
       "1400     1\n",
       "1200     1\n",
       "4100     1\n",
       "21700    1\n",
       "5464     1\n",
       "Name: Kms_Driven, Length: 206, dtype: int64"
      ]
     },
     "execution_count": 18,
     "metadata": {},
     "output_type": "execute_result"
    }
   ],
   "source": [
    "cars.Kms_Driven.value_counts()"
   ]
  },
  {
   "cell_type": "code",
   "execution_count": 19,
   "id": "7c04ac51",
   "metadata": {},
   "outputs": [
    {
     "data": {
      "image/png": "[encoded data removed]",
      "text/plain": [
       "<Figure size 432x288 with 1 Axes>"
      ]
     },
     "metadata": {
      "needs_background": "light"
     },
     "output_type": "display_data"
    }
   ],
   "source": [
    "sns.boxplot(x=cars['Kms_Driven'], color = 'cyan');"
   ]
  },
  {
   "cell_type": "code",
   "execution_count": 20,
   "id": "5534d2d8",
   "metadata": {},
   "outputs": [],
   "source": [
    "dfw = cars['Kms_Driven']\n",
    "dfw_Q1 = dfw.quantile(0.25)\n",
    "dfw_Q3 = dfw.quantile(0.75)\n",
    "dfw_IQR = dfw_Q3 - dfw_Q1\n",
    "dfw_lowerend = dfw_Q1 - (1.5 * dfw_IQR)\n",
    "dfw_upperend = dfw_Q3 + (1.5 * dfw_IQR)"
   ]
  },
  {
   "cell_type": "code",
   "execution_count": 21,
   "id": "0c9b50f5",
   "metadata": {},
   "outputs": [
    {
     "data": {
      "text/plain": [
       "37     127000\n",
       "50     104707\n",
       "53     135000\n",
       "77     135154\n",
       "84     197176\n",
       "85     142000\n",
       "179    213000\n",
       "196    500000\n",
       "Name: Kms_Driven, dtype: int64"
      ]
     },
     "execution_count": 21,
     "metadata": {},
     "output_type": "execute_result"
    }
   ],
   "source": [
    "dfw_outliers = dfw[(dfw < dfw_lowerend) | (dfw > dfw_upperend)]\n",
    "dfw_outliers"
   ]
  },
  {
   "cell_type": "code",
   "execution_count": 22,
   "id": "718b39e3",
   "metadata": {},
   "outputs": [],
   "source": [
    "cars.Kms_Driven = np.where(cars.Kms_Driven>dfw_upperend, dfw_upperend, cars.Kms_Driven)"
   ]
  },
  {
   "cell_type": "code",
   "execution_count": 23,
   "id": "4b0275a6",
   "metadata": {},
   "outputs": [
    {
     "data": {
      "text/plain": [
       "Text(0.5, 1.0, 'Boxplot: Kms_Driven')"
      ]
     },
     "execution_count": 23,
     "metadata": {},
     "output_type": "execute_result"
    },
    {
     "data": {
      "image/png": "[encoded data removed]",
      "text/plain": [
       "<Figure size 432x288 with 1 Axes>"
      ]
     },
     "metadata": {
      "needs_background": "light"
     },
     "output_type": "display_data"
    }
   ],
   "source": [
    "cars['Kms_Driven'] = cars['Kms_Driven'].astype('float64')\n",
    "sns.boxplot(x=cars.Kms_Driven, color = 'cyan', orient= 'h')\n",
    "plt.title(\"Boxplot: Kms_Driven\")"
   ]
  },
  {
   "cell_type": "code",
   "execution_count": 24,
   "id": "3f01d185",
   "metadata": {},
   "outputs": [
    {
     "data": {
      "text/plain": [
       "Text(0.5, 1.0, 'Barplot of Kms_Driven')"
      ]
     },
     "execution_count": 24,
     "metadata": {},
     "output_type": "execute_result"
    },
    {
     "data": {
      "image/png": "[encoded data removed]",
      "text/plain": [
       "<Figure size 432x288 with 1 Axes>"
      ]
     },
     "metadata": {
      "needs_background": "light"
     },
     "output_type": "display_data"
    }
   ],
   "source": [
    "sns.countplot(x = 'Kms_Driven', data = cars, palette = 'GnBu')\n",
    "plt.title('Barplot of Kms_Driven')"
   ]
  },
  {
   "cell_type": "markdown",
   "id": "f4405b17",
   "metadata": {},
   "source": [
    "## Present_Price"
   ]
  },
  {
   "cell_type": "code",
   "execution_count": 25,
   "id": "5e32da35",
   "metadata": {},
   "outputs": [
    {
     "data": {
      "text/plain": [
       "9.40     15\n",
       "13.60    13\n",
       "5.70      8\n",
       "4.43      7\n",
       "1.47      7\n",
       "         ..\n",
       "18.54     1\n",
       "7.27      1\n",
       "15.04     1\n",
       "10.21     1\n",
       "12.50     1\n",
       "Name: Present_Price, Length: 147, dtype: int64"
      ]
     },
     "execution_count": 25,
     "metadata": {},
     "output_type": "execute_result"
    }
   ],
   "source": [
    "cars.Present_Price.value_counts()"
   ]
  },
  {
   "cell_type": "code",
   "execution_count": 26,
   "id": "f70a27b5",
   "metadata": {},
   "outputs": [
    {
     "data": {
      "image/png": "[encoded data removed]",
      "text/plain": [
       "<Figure size 432x288 with 1 Axes>"
      ]
     },
     "metadata": {
      "needs_background": "light"
     },
     "output_type": "display_data"
    }
   ],
   "source": [
    "sns.boxplot(x=cars['Present_Price'], color = 'yellow');"
   ]
  },
  {
   "cell_type": "code",
   "execution_count": 27,
   "id": "95192a94",
   "metadata": {},
   "outputs": [],
   "source": [
    "dfw = cars['Present_Price']\n",
    "dfw_Q1 = dfw.quantile(0.25)\n",
    "dfw_Q3 = dfw.quantile(0.75)\n",
    "dfw_IQR = dfw_Q3 - dfw_Q1\n",
    "dfw_lowerend = dfw_Q1 - (1.5 * dfw_IQR)\n",
    "dfw_upperend = dfw_Q3 + (1.5 * dfw_IQR)"
   ]
  },
  {
   "cell_type": "code",
   "execution_count": 28,
   "id": "82ccc821",
   "metadata": {},
   "outputs": [
    {
     "data": {
      "text/plain": [
       "50    30.61\n",
       "51    30.61\n",
       "53    30.61\n",
       "59    35.96\n",
       "62    35.96\n",
       "63    35.96\n",
       "64    36.23\n",
       "66    23.15\n",
       "79    30.61\n",
       "82    25.39\n",
       "85    23.73\n",
       "86    92.60\n",
       "93    30.61\n",
       "96    25.39\n",
       "Name: Present_Price, dtype: float64"
      ]
     },
     "execution_count": 28,
     "metadata": {},
     "output_type": "execute_result"
    }
   ],
   "source": [
    "dfw_outliers = dfw[(dfw < dfw_lowerend) | (dfw > dfw_upperend)]\n",
    "dfw_outliers"
   ]
  },
  {
   "cell_type": "code",
   "execution_count": 29,
   "id": "a9b8464a",
   "metadata": {},
   "outputs": [],
   "source": [
    "cars.Present_Price = np.where(cars.Present_Price>dfw_upperend, dfw_upperend, cars.Present_Price)"
   ]
  },
  {
   "cell_type": "code",
   "execution_count": 30,
   "id": "fde1202c",
   "metadata": {},
   "outputs": [
    {
     "data": {
      "text/plain": [
       "Text(0.5, 1.0, 'Boxplot: Present_Price')"
      ]
     },
     "execution_count": 30,
     "metadata": {},
     "output_type": "execute_result"
    },
    {
     "data": {
      "image/png": "[encoded data removed]",
      "text/plain": [
       "<Figure size 432x288 with 1 Axes>"
      ]
     },
     "metadata": {
      "needs_background": "light"
     },
     "output_type": "display_data"
    }
   ],
   "source": [
    "cars['Present_Price'] = cars['Present_Price'].astype('float64')\n",
    "sns.boxplot(x=cars.Present_Price, color = 'yellow', orient= 'h')\n",
    "plt.title(\"Boxplot: Present_Price\")"
   ]
  },
  {
   "cell_type": "code",
   "execution_count": 31,
   "id": "76636331",
   "metadata": {},
   "outputs": [
    {
     "data": {
      "text/plain": [
       "Text(0.5, 1.0, 'Barplot of Present_Price')"
      ]
     },
     "execution_count": 31,
     "metadata": {},
     "output_type": "execute_result"
    },
    {
     "data": {
      "image/png": "[encoded data removed]",
      "text/plain": [
       "<Figure size 432x288 with 1 Axes>"
      ]
     },
     "metadata": {
      "needs_background": "light"
     },
     "output_type": "display_data"
    }
   ],
   "source": [
    "sns.countplot(x = 'Present_Price', data = cars, palette = 'rainbow')\n",
    "plt.title('Barplot of Present_Price')"
   ]
  },
  {
   "cell_type": "markdown",
   "id": "3eae6827",
   "metadata": {},
   "source": [
    "## Year"
   ]
  },
  {
   "cell_type": "code",
   "execution_count": 32,
   "id": "af2fd9cb",
   "metadata": {},
   "outputs": [
    {
     "data": {
      "text/plain": [
       "2015    61\n",
       "2016    50\n",
       "2014    38\n",
       "2017    35\n",
       "2013    33\n",
       "2012    23\n",
       "2011    19\n",
       "2010    15\n",
       "2008     7\n",
       "2009     6\n",
       "2006     4\n",
       "2005     4\n",
       "2003     2\n",
       "2007     2\n",
       "2018     1\n",
       "2004     1\n",
       "Name: Year, dtype: int64"
      ]
     },
     "execution_count": 32,
     "metadata": {},
     "output_type": "execute_result"
    }
   ],
   "source": [
    "cars.Year.value_counts()"
   ]
  },
  {
   "cell_type": "code",
   "execution_count": 33,
   "id": "e5739c95",
   "metadata": {},
   "outputs": [
    {
     "data": {
      "image/png": "[encoded data removed]",
      "text/plain": [
       "<Figure size 432x288 with 1 Axes>"
      ]
     },
     "metadata": {
      "needs_background": "light"
     },
     "output_type": "display_data"
    }
   ],
   "source": [
    "sns.boxplot(x=cars['Year'], color = 'orange');"
   ]
  },
  {
   "cell_type": "code",
   "execution_count": 34,
   "id": "a1ebb164",
   "metadata": {},
   "outputs": [],
   "source": [
    "dfw = cars['Year']\n",
    "dfw_Q1 = dfw.quantile(0.25)\n",
    "dfw_Q3 = dfw.quantile(0.75)\n",
    "dfw_IQR = dfw_Q3 - dfw_Q1\n",
    "dfw_lowerend = dfw_Q1 - (1.5 * dfw_IQR)\n",
    "dfw_upperend = dfw_Q3 + (1.5 * dfw_IQR)"
   ]
  },
  {
   "cell_type": "code",
   "execution_count": 35,
   "id": "4d5e63c8",
   "metadata": {},
   "outputs": [
    {
     "data": {
      "text/plain": [
       "37     2003\n",
       "39     2003\n",
       "54     2005\n",
       "77     2004\n",
       "84     2005\n",
       "92     2005\n",
       "189    2005\n",
       "Name: Year, dtype: int64"
      ]
     },
     "execution_count": 35,
     "metadata": {},
     "output_type": "execute_result"
    }
   ],
   "source": [
    "dfw_outliers = dfw[(dfw < dfw_lowerend) | (dfw > dfw_upperend)]\n",
    "dfw_outliers"
   ]
  },
  {
   "cell_type": "code",
   "execution_count": 36,
   "id": "d3e86085",
   "metadata": {},
   "outputs": [],
   "source": [
    "dfw = cars.drop([37,39,54,77,84,92,189])"
   ]
  },
  {
   "cell_type": "code",
   "execution_count": 37,
   "id": "65ac311f",
   "metadata": {},
   "outputs": [
    {
     "data": {
      "text/plain": [
       "Text(0.5, 1.0, 'Boxplot: Year')"
      ]
     },
     "execution_count": 37,
     "metadata": {},
     "output_type": "execute_result"
    },
    {
     "data": {
      "image/png": "[encoded data removed]",
      "text/plain": [
       "<Figure size 432x288 with 1 Axes>"
      ]
     },
     "metadata": {
      "needs_background": "light"
     },
     "output_type": "display_data"
    }
   ],
   "source": [
    "cars['Year'] = cars['Year'].astype('float64')\n",
    "sns.boxplot(x=cars.Year, color = 'yellow', orient= 'h')\n",
    "plt.title(\"Boxplot: Year\")"
   ]
  },
  {
   "cell_type": "code",
   "execution_count": 38,
   "id": "367d841f",
   "metadata": {},
   "outputs": [
    {
     "data": {
      "text/plain": [
       "Text(0.5, 1.0, 'Barplot of Year')"
      ]
     },
     "execution_count": 38,
     "metadata": {},
     "output_type": "execute_result"
    },
    {
     "data": {
      "image/png": "[encoded data removed]",
      "text/plain": [
       "<Figure size 432x288 with 1 Axes>"
      ]
     },
     "metadata": {
      "needs_background": "light"
     },
     "output_type": "display_data"
    }
   ],
   "source": [
    "sns.countplot(x = 'Year', data = cars, palette = 'hot_r')\n",
    "plt.title('Barplot of Year')"
   ]
  },
  {
   "cell_type": "markdown",
   "id": "6672dc92",
   "metadata": {},
   "source": [
    "##  Selling_Price"
   ]
  },
  {
   "cell_type": "code",
   "execution_count": 39,
   "id": "5ef9d2b5",
   "metadata": {},
   "outputs": [
    {
     "data": {
      "text/plain": [
       "0.45     8\n",
       "0.60     8\n",
       "5.25     7\n",
       "4.50     7\n",
       "0.20     6\n",
       "        ..\n",
       "3.80     1\n",
       "3.45     1\n",
       "5.90     1\n",
       "35.00    1\n",
       "11.50    1\n",
       "Name: Selling_Price, Length: 156, dtype: int64"
      ]
     },
     "execution_count": 39,
     "metadata": {},
     "output_type": "execute_result"
    }
   ],
   "source": [
    "cars.Selling_Price.value_counts()"
   ]
  },
  {
   "cell_type": "code",
   "execution_count": 40,
   "id": "d9b46c7b",
   "metadata": {},
   "outputs": [
    {
     "data": {
      "image/png": "[encoded data removed]",
      "text/plain": [
       "<Figure size 432x288 with 1 Axes>"
      ]
     },
     "metadata": {
      "needs_background": "light"
     },
     "output_type": "display_data"
    }
   ],
   "source": [
    "sns.boxplot(x=cars['Selling_Price'], color = 'green');"
   ]
  },
  {
   "cell_type": "code",
   "execution_count": 41,
   "id": "2c5b59b4",
   "metadata": {},
   "outputs": [],
   "source": [
    "dfw = cars['Selling_Price']\n",
    "dfw_Q1 = dfw.quantile(0.25)\n",
    "dfw_Q3 = dfw.quantile(0.75)\n",
    "dfw_IQR = dfw_Q3 - dfw_Q1\n",
    "dfw_lowerend = dfw_Q1 - (1.5 * dfw_IQR)\n",
    "dfw_upperend = dfw_Q3 + (1.5 * dfw_IQR)"
   ]
  },
  {
   "cell_type": "code",
   "execution_count": 42,
   "id": "d4a4e392",
   "metadata": {},
   "outputs": [
    {
     "data": {
      "text/plain": [
       "50    14.90\n",
       "51    23.00\n",
       "52    18.00\n",
       "53    16.00\n",
       "59    19.99\n",
       "62    18.75\n",
       "63    23.50\n",
       "64    33.00\n",
       "66    19.75\n",
       "69    14.25\n",
       "79    14.50\n",
       "80    14.73\n",
       "82    23.00\n",
       "86    35.00\n",
       "93    23.00\n",
       "96    20.75\n",
       "97    17.00\n",
       "Name: Selling_Price, dtype: float64"
      ]
     },
     "execution_count": 42,
     "metadata": {},
     "output_type": "execute_result"
    }
   ],
   "source": [
    "dfw_outliers = dfw[(dfw < dfw_lowerend) | (dfw > dfw_upperend)]\n",
    "dfw_outliers"
   ]
  },
  {
   "cell_type": "code",
   "execution_count": 43,
   "id": "0f043ecf",
   "metadata": {},
   "outputs": [],
   "source": [
    "cars.Selling_Price = np.where(cars.Selling_Price>dfw_upperend, dfw_upperend, cars.Selling_Price)"
   ]
  },
  {
   "cell_type": "code",
   "execution_count": 44,
   "id": "7c7fed8d",
   "metadata": {},
   "outputs": [
    {
     "data": {
      "text/plain": [
       "Text(0.5, 1.0, 'Boxplot: Selling_Price')"
      ]
     },
     "execution_count": 44,
     "metadata": {},
     "output_type": "execute_result"
    },
    {
     "data": {
      "image/png": "[encoded data removed]",
      "text/plain": [
       "<Figure size 432x288 with 1 Axes>"
      ]
     },
     "metadata": {
      "needs_background": "light"
     },
     "output_type": "display_data"
    }
   ],
   "source": [
    "cars['Selling_Price'] = cars['Selling_Price'].astype('float64')\n",
    "sns.boxplot(x=cars.Selling_Price, color = 'green', orient= 'h')\n",
    "plt.title(\"Boxplot: Selling_Price\")"
   ]
  },
  {
   "cell_type": "code",
   "execution_count": null,
   "id": "8087e9c0",
   "metadata": {},
   "outputs": [],
   "source": []
  },
  {
   "cell_type": "markdown",
   "id": "73220955",
   "metadata": {},
   "source": [
    "## Owner"
   ]
  },
  {
   "cell_type": "code",
   "execution_count": 45,
   "id": "06fde42b",
   "metadata": {},
   "outputs": [
    {
     "data": {
      "text/plain": [
       "0    290\n",
       "1     10\n",
       "3      1\n",
       "Name: Owner, dtype: int64"
      ]
     },
     "execution_count": 45,
     "metadata": {},
     "output_type": "execute_result"
    }
   ],
   "source": [
    "cars.Owner.value_counts()"
   ]
  },
  {
   "cell_type": "code",
   "execution_count": 46,
   "id": "a4a61745",
   "metadata": {},
   "outputs": [
    {
     "data": {
      "text/plain": [
       "Text(0.5, 1.0, 'Barplot of Owner')"
      ]
     },
     "execution_count": 46,
     "metadata": {},
     "output_type": "execute_result"
    },
    {
     "data": {
      "image/png": "[encoded data removed]",
      "text/plain": [
       "<Figure size 432x288 with 1 Axes>"
      ]
     },
     "metadata": {
      "needs_background": "light"
     },
     "output_type": "display_data"
    }
   ],
   "source": [
    "sns.countplot(x = 'Owner', data = cars, palette = 'hot_r')\n",
    "plt.title('Barplot of Owner')"
   ]
  },
  {
   "cell_type": "markdown",
   "id": "d0c98167",
   "metadata": {},
   "source": [
    "## Fuel_Type"
   ]
  },
  {
   "cell_type": "code",
   "execution_count": 47,
   "id": "ae20b518",
   "metadata": {},
   "outputs": [
    {
     "data": {
      "text/plain": [
       "Petrol    239\n",
       "Diesel     60\n",
       "CNG         2\n",
       "Name: Fuel_Type, dtype: int64"
      ]
     },
     "execution_count": 47,
     "metadata": {},
     "output_type": "execute_result"
    }
   ],
   "source": [
    "cars.Fuel_Type.value_counts()"
   ]
  },
  {
   "cell_type": "code",
   "execution_count": 48,
   "id": "13722819",
   "metadata": {},
   "outputs": [],
   "source": [
    "le = preprocessing.LabelEncoder()\n",
    "cars['Fuel_Type'] = le.fit_transform(cars.Fuel_Type.values)"
   ]
  },
  {
   "cell_type": "code",
   "execution_count": 49,
   "id": "3b75fb6b",
   "metadata": {},
   "outputs": [
    {
     "data": {
      "text/plain": [
       "Text(0.5, 1.0, 'Barplot of Fuel_Type')"
      ]
     },
     "execution_count": 49,
     "metadata": {},
     "output_type": "execute_result"
    },
    {
     "data": {
      "image/png": "[encoded data removed]",
      "text/plain": [
       "<Figure size 432x288 with 1 Axes>"
      ]
     },
     "metadata": {
      "needs_background": "light"
     },
     "output_type": "display_data"
    }
   ],
   "source": [
    "sns.countplot(x = 'Fuel_Type', data = cars, palette = 'GnBu')\n",
    "plt.title('Barplot of Fuel_Type')"
   ]
  },
  {
   "cell_type": "markdown",
   "id": "fd401921",
   "metadata": {},
   "source": [
    "## Seller_Type"
   ]
  },
  {
   "cell_type": "code",
   "execution_count": 50,
   "id": "5c5c447c",
   "metadata": {},
   "outputs": [
    {
     "data": {
      "text/plain": [
       "Dealer        195\n",
       "Individual    106\n",
       "Name: Seller_Type, dtype: int64"
      ]
     },
     "execution_count": 50,
     "metadata": {},
     "output_type": "execute_result"
    }
   ],
   "source": [
    "cars.Seller_Type.value_counts()"
   ]
  },
  {
   "cell_type": "code",
   "execution_count": 51,
   "id": "b0efd492",
   "metadata": {},
   "outputs": [],
   "source": [
    "le = preprocessing.LabelEncoder()\n",
    "cars['Seller_Type'] = le.fit_transform(cars.Seller_Type.values)"
   ]
  },
  {
   "cell_type": "code",
   "execution_count": 52,
   "id": "63b62d4d",
   "metadata": {},
   "outputs": [
    {
     "data": {
      "text/plain": [
       "Text(0.5, 1.0, 'Barplot of Seller_Type')"
      ]
     },
     "execution_count": 52,
     "metadata": {},
     "output_type": "execute_result"
    },
    {
     "data": {
      "image/png": "[encoded data removed]",
      "text/plain": [
       "<Figure size 432x288 with 1 Axes>"
      ]
     },
     "metadata": {
      "needs_background": "light"
     },
     "output_type": "display_data"
    }
   ],
   "source": [
    "sns.countplot(x = 'Seller_Type', data = cars, palette = 'viridis')\n",
    "plt.title('Barplot of Seller_Type')"
   ]
  },
  {
   "cell_type": "markdown",
   "id": "408f7b81",
   "metadata": {},
   "source": [
    "## Transmission"
   ]
  },
  {
   "cell_type": "code",
   "execution_count": 53,
   "id": "3925520d",
   "metadata": {},
   "outputs": [
    {
     "data": {
      "text/plain": [
       "Manual       261\n",
       "Automatic     40\n",
       "Name: Transmission, dtype: int64"
      ]
     },
     "execution_count": 53,
     "metadata": {},
     "output_type": "execute_result"
    }
   ],
   "source": [
    "cars.Transmission.value_counts()"
   ]
  },
  {
   "cell_type": "code",
   "execution_count": 54,
   "id": "bb2e2652",
   "metadata": {},
   "outputs": [],
   "source": [
    "le = preprocessing.LabelEncoder()\n",
    "cars['Transmission'] = le.fit_transform(cars.Transmission.values)"
   ]
  },
  {
   "cell_type": "code",
   "execution_count": 55,
   "id": "505ddfe3",
   "metadata": {},
   "outputs": [
    {
     "data": {
      "text/plain": [
       "Text(0.5, 1.0, 'Barplot of Transmission')"
      ]
     },
     "execution_count": 55,
     "metadata": {},
     "output_type": "execute_result"
    },
    {
     "data": {
      "image/png": "[encoded data removed]",
      "text/plain": [
       "<Figure size 432x288 with 1 Axes>"
      ]
     },
     "metadata": {
      "needs_background": "light"
     },
     "output_type": "display_data"
    }
   ],
   "source": [
    "sns.countplot(x = 'Transmission', data = cars, palette = 'PiYG')\n",
    "plt.title('Barplot of Transmission')"
   ]
  },
  {
   "cell_type": "code",
   "execution_count": 56,
   "id": "638f9751",
   "metadata": {},
   "outputs": [
    {
     "name": "stdout",
     "output_type": "stream",
     "text": [
      "<class 'pandas.core.frame.DataFrame'>\n",
      "RangeIndex: 301 entries, 0 to 300\n",
      "Data columns (total 9 columns):\n",
      " #   Column         Non-Null Count  Dtype  \n",
      "---  ------         --------------  -----  \n",
      " 0   Car_Name       301 non-null    object \n",
      " 1   Year           301 non-null    float64\n",
      " 2   Owner          301 non-null    int64  \n",
      " 3   Present_Price  301 non-null    float64\n",
      " 4   Kms_Driven     301 non-null    float64\n",
      " 5   Fuel_Type      301 non-null    int32  \n",
      " 6   Seller_Type    301 non-null    int32  \n",
      " 7   Transmission   301 non-null    int32  \n",
      " 8   Selling_Price  301 non-null    float64\n",
      "dtypes: float64(4), int32(3), int64(1), object(1)\n",
      "memory usage: 17.8+ KB\n"
     ]
    }
   ],
   "source": [
    "cars.info()"
   ]
  },
  {
   "cell_type": "code",
   "execution_count": 57,
   "id": "c2b837ff",
   "metadata": {},
   "outputs": [],
   "source": [
    "cars = cars.drop(['Car_Name'], axis = 1)"
   ]
  },
  {
   "cell_type": "markdown",
   "id": "92e11cc1",
   "metadata": {},
   "source": [
    "## Corelation"
   ]
  },
  {
   "cell_type": "code",
   "execution_count": 58,
   "id": "bf401d0e",
   "metadata": {},
   "outputs": [],
   "source": [
    "countinue_column = cars.select_dtypes(include= 'number')"
   ]
  },
  {
   "cell_type": "code",
   "execution_count": 59,
   "id": "fbec60ce",
   "metadata": {},
   "outputs": [
    {
     "name": "stdout",
     "output_type": "stream",
     "text": [
      "       Year  Owner  Present_Price  Kms_Driven  Fuel_Type  Seller_Type  \\\n",
      "0    2014.0      0           5.59     27000.0          2            0   \n",
      "1    2013.0      0           9.54     43000.0          1            0   \n",
      "2    2017.0      0           9.85      6900.0          2            0   \n",
      "3    2011.0      0           4.15      5200.0          2            0   \n",
      "4    2014.0      0           6.87     42450.0          1            0   \n",
      "..      ...    ...            ...         ...        ...          ...   \n",
      "296  2016.0      0          11.60     33988.0          1            0   \n",
      "297  2015.0      0           5.90     60000.0          2            0   \n",
      "298  2009.0      0          11.00     87934.0          2            0   \n",
      "299  2017.0      0          12.50      9000.0          1            0   \n",
      "300  2016.0      0           5.90      5464.0          2            0   \n",
      "\n",
      "     Transmission  Selling_Price  \n",
      "0               1           3.35  \n",
      "1               1           4.75  \n",
      "2               1           7.25  \n",
      "3               1           2.85  \n",
      "4               1           4.60  \n",
      "..            ...            ...  \n",
      "296             1           9.50  \n",
      "297             1           4.00  \n",
      "298             1           3.35  \n",
      "299             1          11.50  \n",
      "300             1           5.30  \n",
      "\n",
      "[301 rows x 8 columns]\n"
     ]
    }
   ],
   "source": [
    "print(countinue_column)"
   ]
  },
  {
   "cell_type": "code",
   "execution_count": 60,
   "id": "a217f473",
   "metadata": {},
   "outputs": [
    {
     "name": "stdout",
     "output_type": "stream",
     "text": [
      "<class 'pandas.core.frame.DataFrame'>\n",
      "RangeIndex: 301 entries, 0 to 300\n",
      "Data columns (total 8 columns):\n",
      " #   Column         Non-Null Count  Dtype  \n",
      "---  ------         --------------  -----  \n",
      " 0   Year           301 non-null    float64\n",
      " 1   Owner          301 non-null    int64  \n",
      " 2   Present_Price  301 non-null    float64\n",
      " 3   Kms_Driven     301 non-null    float64\n",
      " 4   Fuel_Type      301 non-null    int32  \n",
      " 5   Seller_Type    301 non-null    int32  \n",
      " 6   Transmission   301 non-null    int32  \n",
      " 7   Selling_Price  301 non-null    float64\n",
      "dtypes: float64(4), int32(3), int64(1)\n",
      "memory usage: 15.4 KB\n"
     ]
    }
   ],
   "source": [
    "countinue_column.info()"
   ]
  },
  {
   "cell_type": "code",
   "execution_count": 61,
   "id": "a5d728fb",
   "metadata": {},
   "outputs": [
    {
     "data": {
      "text/html": [
       "<div>\n",
       "<style scoped>\n",
       "    .dataframe tbody tr th:only-of-type {\n",
       "        vertical-align: middle;\n",
       "    }\n",
       "\n",
       "    .dataframe tbody tr th {\n",
       "        vertical-align: top;\n",
       "    }\n",
       "\n",
       "    .dataframe thead th {\n",
       "        text-align: right;\n",
       "    }\n",
       "</style>\n",
       "<table border=\"1\" class=\"dataframe\">\n",
       "  <thead>\n",
       "    <tr style=\"text-align: right;\">\n",
       "      <th></th>\n",
       "      <th>Year</th>\n",
       "      <th>Owner</th>\n",
       "      <th>Present_Price</th>\n",
       "      <th>Kms_Driven</th>\n",
       "      <th>Fuel_Type</th>\n",
       "      <th>Seller_Type</th>\n",
       "      <th>Transmission</th>\n",
       "      <th>Selling_Price</th>\n",
       "    </tr>\n",
       "  </thead>\n",
       "  <tbody>\n",
       "    <tr>\n",
       "      <th>Year</th>\n",
       "      <td>1.000000</td>\n",
       "      <td>-0.182104</td>\n",
       "      <td>-0.033008</td>\n",
       "      <td>-0.640598</td>\n",
       "      <td>-0.053643</td>\n",
       "      <td>-0.039896</td>\n",
       "      <td>0.000394</td>\n",
       "      <td>0.281617</td>\n",
       "    </tr>\n",
       "    <tr>\n",
       "      <th>Owner</th>\n",
       "      <td>-0.182104</td>\n",
       "      <td>1.000000</td>\n",
       "      <td>0.021850</td>\n",
       "      <td>0.092399</td>\n",
       "      <td>0.055705</td>\n",
       "      <td>0.124269</td>\n",
       "      <td>-0.050316</td>\n",
       "      <td>-0.101629</td>\n",
       "    </tr>\n",
       "    <tr>\n",
       "      <th>Present_Price</th>\n",
       "      <td>-0.033008</td>\n",
       "      <td>0.021850</td>\n",
       "      <td>1.000000</td>\n",
       "      <td>0.386580</td>\n",
       "      <td>-0.452857</td>\n",
       "      <td>-0.661626</td>\n",
       "      <td>-0.370795</td>\n",
       "      <td>0.871568</td>\n",
       "    </tr>\n",
       "    <tr>\n",
       "      <th>Kms_Driven</th>\n",
       "      <td>-0.640598</td>\n",
       "      <td>0.092399</td>\n",
       "      <td>0.386580</td>\n",
       "      <td>1.000000</td>\n",
       "      <td>-0.280866</td>\n",
       "      <td>-0.269800</td>\n",
       "      <td>-0.093247</td>\n",
       "      <td>0.127841</td>\n",
       "    </tr>\n",
       "    <tr>\n",
       "      <th>Fuel_Type</th>\n",
       "      <td>-0.053643</td>\n",
       "      <td>0.055705</td>\n",
       "      <td>-0.452857</td>\n",
       "      <td>-0.280866</td>\n",
       "      <td>1.000000</td>\n",
       "      <td>0.352415</td>\n",
       "      <td>0.080466</td>\n",
       "      <td>-0.519169</td>\n",
       "    </tr>\n",
       "    <tr>\n",
       "      <th>Seller_Type</th>\n",
       "      <td>-0.039896</td>\n",
       "      <td>0.124269</td>\n",
       "      <td>-0.661626</td>\n",
       "      <td>-0.269800</td>\n",
       "      <td>0.352415</td>\n",
       "      <td>1.000000</td>\n",
       "      <td>0.063240</td>\n",
       "      <td>-0.674330</td>\n",
       "    </tr>\n",
       "    <tr>\n",
       "      <th>Transmission</th>\n",
       "      <td>0.000394</td>\n",
       "      <td>-0.050316</td>\n",
       "      <td>-0.370795</td>\n",
       "      <td>-0.093247</td>\n",
       "      <td>0.080466</td>\n",
       "      <td>0.063240</td>\n",
       "      <td>1.000000</td>\n",
       "      <td>-0.301243</td>\n",
       "    </tr>\n",
       "    <tr>\n",
       "      <th>Selling_Price</th>\n",
       "      <td>0.281617</td>\n",
       "      <td>-0.101629</td>\n",
       "      <td>0.871568</td>\n",
       "      <td>0.127841</td>\n",
       "      <td>-0.519169</td>\n",
       "      <td>-0.674330</td>\n",
       "      <td>-0.301243</td>\n",
       "      <td>1.000000</td>\n",
       "    </tr>\n",
       "  </tbody>\n",
       "</table>\n",
       "</div>"
      ],
      "text/plain": [
       "                   Year     Owner  Present_Price  Kms_Driven  Fuel_Type  \\\n",
       "Year           1.000000 -0.182104      -0.033008   -0.640598  -0.053643   \n",
       "Owner         -0.182104  1.000000       0.021850    0.092399   0.055705   \n",
       "Present_Price -0.033008  0.021850       1.000000    0.386580  -0.452857   \n",
       "Kms_Driven    -0.640598  0.092399       0.386580    1.000000  -0.280866   \n",
       "Fuel_Type     -0.053643  0.055705      -0.452857   -0.280866   1.000000   \n",
       "Seller_Type   -0.039896  0.124269      -0.661626   -0.269800   0.352415   \n",
       "Transmission   0.000394 -0.050316      -0.370795   -0.093247   0.080466   \n",
       "Selling_Price  0.281617 -0.101629       0.871568    0.127841  -0.519169   \n",
       "\n",
       "               Seller_Type  Transmission  Selling_Price  \n",
       "Year             -0.039896      0.000394       0.281617  \n",
       "Owner             0.124269     -0.050316      -0.101629  \n",
       "Present_Price    -0.661626     -0.370795       0.871568  \n",
       "Kms_Driven       -0.269800     -0.093247       0.127841  \n",
       "Fuel_Type         0.352415      0.080466      -0.519169  \n",
       "Seller_Type       1.000000      0.063240      -0.674330  \n",
       "Transmission      0.063240      1.000000      -0.301243  \n",
       "Selling_Price    -0.674330     -0.301243       1.000000  "
      ]
     },
     "execution_count": 61,
     "metadata": {},
     "output_type": "execute_result"
    }
   ],
   "source": [
    "countinue_column.corr()"
   ]
  },
  {
   "cell_type": "code",
   "execution_count": 62,
   "id": "8273cc44",
   "metadata": {},
   "outputs": [
    {
     "data": {
      "text/plain": [
       "<AxesSubplot:>"
      ]
     },
     "execution_count": 62,
     "metadata": {},
     "output_type": "execute_result"
    },
    {
     "data": {
      "image/png": "[encoded data removed]",
      "text/plain": [
       "<Figure size 720x720 with 2 Axes>"
      ]
     },
     "metadata": {
      "needs_background": "light"
     },
     "output_type": "display_data"
    }
   ],
   "source": [
    "plt.figure(figsize=(10,10))\n",
    "sns.heatmap(countinue_column.corr(), annot=True, vmin= -1, vmax=1, cmap = 'BrBG')"
   ]
  },
  {
   "cell_type": "code",
   "execution_count": 63,
   "id": "40a2ce93",
   "metadata": {},
   "outputs": [],
   "source": [
    "X = cars.iloc[:, cars.columns != 'Selling_Price']\n",
    "y = cars.iloc[:, cars.columns == 'Selling_Price']"
   ]
  },
  {
   "cell_type": "code",
   "execution_count": 64,
   "id": "0e2c9de0",
   "metadata": {},
   "outputs": [],
   "source": [
    "X_train, X_test, y_train, y_test = train_test_split(X, y, test_size=0.2, random_state=0)"
   ]
  },
  {
   "cell_type": "code",
   "execution_count": 65,
   "id": "922053eb",
   "metadata": {},
   "outputs": [
    {
     "data": {
      "text/plain": [
       "(240, 7)"
      ]
     },
     "execution_count": 65,
     "metadata": {},
     "output_type": "execute_result"
    }
   ],
   "source": [
    "X_train.shape"
   ]
  },
  {
   "cell_type": "code",
   "execution_count": 66,
   "id": "65579fbf",
   "metadata": {},
   "outputs": [
    {
     "data": {
      "text/plain": [
       "(240, 1)"
      ]
     },
     "execution_count": 66,
     "metadata": {},
     "output_type": "execute_result"
    }
   ],
   "source": [
    "y_train.shape"
   ]
  },
  {
   "cell_type": "code",
   "execution_count": 67,
   "id": "3fddb3aa",
   "metadata": {},
   "outputs": [
    {
     "data": {
      "text/html": [
       "<div>\n",
       "<style scoped>\n",
       "    .dataframe tbody tr th:only-of-type {\n",
       "        vertical-align: middle;\n",
       "    }\n",
       "\n",
       "    .dataframe tbody tr th {\n",
       "        vertical-align: top;\n",
       "    }\n",
       "\n",
       "    .dataframe thead th {\n",
       "        text-align: right;\n",
       "    }\n",
       "</style>\n",
       "<table border=\"1\" class=\"dataframe\">\n",
       "  <thead>\n",
       "    <tr style=\"text-align: right;\">\n",
       "      <th></th>\n",
       "      <th>Selling_Price</th>\n",
       "    </tr>\n",
       "  </thead>\n",
       "  <tbody>\n",
       "    <tr>\n",
       "      <th>74</th>\n",
       "      <td>4.90</td>\n",
       "    </tr>\n",
       "    <tr>\n",
       "      <th>239</th>\n",
       "      <td>2.00</td>\n",
       "    </tr>\n",
       "    <tr>\n",
       "      <th>64</th>\n",
       "      <td>13.65</td>\n",
       "    </tr>\n",
       "    <tr>\n",
       "      <th>294</th>\n",
       "      <td>3.75</td>\n",
       "    </tr>\n",
       "    <tr>\n",
       "      <th>286</th>\n",
       "      <td>5.65</td>\n",
       "    </tr>\n",
       "    <tr>\n",
       "      <th>...</th>\n",
       "      <td>...</td>\n",
       "    </tr>\n",
       "    <tr>\n",
       "      <th>251</th>\n",
       "      <td>5.00</td>\n",
       "    </tr>\n",
       "    <tr>\n",
       "      <th>192</th>\n",
       "      <td>0.20</td>\n",
       "    </tr>\n",
       "    <tr>\n",
       "      <th>117</th>\n",
       "      <td>1.10</td>\n",
       "    </tr>\n",
       "    <tr>\n",
       "      <th>47</th>\n",
       "      <td>1.05</td>\n",
       "    </tr>\n",
       "    <tr>\n",
       "      <th>172</th>\n",
       "      <td>0.40</td>\n",
       "    </tr>\n",
       "  </tbody>\n",
       "</table>\n",
       "<p>240 rows × 1 columns</p>\n",
       "</div>"
      ],
      "text/plain": [
       "     Selling_Price\n",
       "74            4.90\n",
       "239           2.00\n",
       "64           13.65\n",
       "294           3.75\n",
       "286           5.65\n",
       "..             ...\n",
       "251           5.00\n",
       "192           0.20\n",
       "117           1.10\n",
       "47            1.05\n",
       "172           0.40\n",
       "\n",
       "[240 rows x 1 columns]"
      ]
     },
     "execution_count": 67,
     "metadata": {},
     "output_type": "execute_result"
    }
   ],
   "source": [
    "y_train"
   ]
  },
  {
   "cell_type": "code",
   "execution_count": 68,
   "id": "0b36463b",
   "metadata": {},
   "outputs": [
    {
     "data": {
      "text/html": [
       "<div>\n",
       "<style scoped>\n",
       "    .dataframe tbody tr th:only-of-type {\n",
       "        vertical-align: middle;\n",
       "    }\n",
       "\n",
       "    .dataframe tbody tr th {\n",
       "        vertical-align: top;\n",
       "    }\n",
       "\n",
       "    .dataframe thead th {\n",
       "        text-align: right;\n",
       "    }\n",
       "</style>\n",
       "<table border=\"1\" class=\"dataframe\">\n",
       "  <thead>\n",
       "    <tr style=\"text-align: right;\">\n",
       "      <th></th>\n",
       "      <th>Selling_Price</th>\n",
       "    </tr>\n",
       "  </thead>\n",
       "  <tbody>\n",
       "    <tr>\n",
       "      <th>223</th>\n",
       "      <td>8.25</td>\n",
       "    </tr>\n",
       "    <tr>\n",
       "      <th>150</th>\n",
       "      <td>0.50</td>\n",
       "    </tr>\n",
       "    <tr>\n",
       "      <th>226</th>\n",
       "      <td>5.25</td>\n",
       "    </tr>\n",
       "    <tr>\n",
       "      <th>296</th>\n",
       "      <td>9.50</td>\n",
       "    </tr>\n",
       "    <tr>\n",
       "      <th>52</th>\n",
       "      <td>13.65</td>\n",
       "    </tr>\n",
       "    <tr>\n",
       "      <th>...</th>\n",
       "      <td>...</td>\n",
       "    </tr>\n",
       "    <tr>\n",
       "      <th>137</th>\n",
       "      <td>0.65</td>\n",
       "    </tr>\n",
       "    <tr>\n",
       "      <th>227</th>\n",
       "      <td>2.55</td>\n",
       "    </tr>\n",
       "    <tr>\n",
       "      <th>26</th>\n",
       "      <td>4.15</td>\n",
       "    </tr>\n",
       "    <tr>\n",
       "      <th>106</th>\n",
       "      <td>1.35</td>\n",
       "    </tr>\n",
       "    <tr>\n",
       "      <th>92</th>\n",
       "      <td>3.51</td>\n",
       "    </tr>\n",
       "  </tbody>\n",
       "</table>\n",
       "<p>61 rows × 1 columns</p>\n",
       "</div>"
      ],
      "text/plain": [
       "     Selling_Price\n",
       "223           8.25\n",
       "150           0.50\n",
       "226           5.25\n",
       "296           9.50\n",
       "52           13.65\n",
       "..             ...\n",
       "137           0.65\n",
       "227           2.55\n",
       "26            4.15\n",
       "106           1.35\n",
       "92            3.51\n",
       "\n",
       "[61 rows x 1 columns]"
      ]
     },
     "execution_count": 68,
     "metadata": {},
     "output_type": "execute_result"
    }
   ],
   "source": [
    "y_test"
   ]
  },
  {
   "cell_type": "code",
   "execution_count": 69,
   "id": "fad83d89",
   "metadata": {},
   "outputs": [],
   "source": [
    "lr = LinearRegression()"
   ]
  },
  {
   "cell_type": "code",
   "execution_count": 70,
   "id": "8a52d39e",
   "metadata": {},
   "outputs": [
    {
     "data": {
      "text/plain": [
       "LinearRegression()"
      ]
     },
     "execution_count": 70,
     "metadata": {},
     "output_type": "execute_result"
    }
   ],
   "source": [
    "lr.fit(X_train, y_train)"
   ]
  },
  {
   "cell_type": "code",
   "execution_count": 71,
   "id": "ee95a021",
   "metadata": {},
   "outputs": [],
   "source": [
    "y_pred = lr.predict(X_test)\n"
   ]
  },
  {
   "cell_type": "code",
   "execution_count": 72,
   "id": "a6717b06",
   "metadata": {},
   "outputs": [
    {
     "name": "stdout",
     "output_type": "stream",
     "text": [
      "Mean Squared Error: 1.2044409355799783\n"
     ]
    }
   ],
   "source": [
    "# Compute the mean squared error\n",
    "mse = mean_squared_error(y_test, y_pred)\n",
    "print(\"Mean Squared Error:\", mse)"
   ]
  },
  {
   "cell_type": "code",
   "execution_count": 73,
   "id": "ad84ab26",
   "metadata": {},
   "outputs": [
    {
     "name": "stdout",
     "output_type": "stream",
     "text": [
      "R^2 Score: 0.9172233787842372\n"
     ]
    }
   ],
   "source": [
    "# Compute the R^2 score\n",
    "score = r2_score(y_test, y_pred)\n",
    "print(\"R^2 Score:\", score)"
   ]
  },
  {
   "cell_type": "code",
   "execution_count": null,
   "id": "86f73452",
   "metadata": {},
   "outputs": [],
   "source": []
  }
 ],
 "metadata": {
  "kernelspec": {
   "display_name": "Python 3 (ipykernel)",
   "language": "python",
   "name": "python3"
  },
  "language_info": {
   "codemirror_mode": {
    "name": "ipython",
    "version": 3
   },
   "file_extension": ".py",
   "mimetype": "text/x-python",
   "name": "python",
   "nbconvert_exporter": "python",
   "pygments_lexer": "ipython3",
   "version": "3.9.12"
  }
 },
 "nbformat": 4,
 "nbformat_minor": 5
}
